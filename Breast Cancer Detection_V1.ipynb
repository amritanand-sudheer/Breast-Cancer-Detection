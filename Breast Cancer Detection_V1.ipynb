{
 "cells": [
  {
   "cell_type": "code",
   "execution_count": null,
   "id": "363bb9f8",
   "metadata": {},
   "outputs": [],
   "source": [
    "# import libraries\n",
    "import os\n",
    "import numpy as np\n",
    "import matplotlib.pyplot as plt\n",
    "import seaborn as sns\n",
    "import pandas as pd\n",
    "pd.options.display.max_columns = None"
   ]
  },
  {
   "cell_type": "code",
   "execution_count": null,
   "id": "39206376",
   "metadata": {},
   "outputs": [],
   "source": [
    "df_meta = pd.read_csv('/Users/amritanand/Documents/Programming/Breast Cancer/Input/cbism-ddsm-breast-cancer/csv/meta.csv')\n",
    "df_meta.head()\n",
    "\n",
    "# load dicom info file\n",
    "df_dicom = pd.read_csv('/Users/amritanand/Documents/Programming/Breast Cancer/Input/cbism-ddsm-breast-cancer/csv/dicom_info.csv')\n",
    "df_dicom.head()"
   ]
  },
  {
   "cell_type": "code",
   "execution_count": null,
   "id": "0741f010",
   "metadata": {},
   "outputs": [],
   "source": [
    "# check image types in dataset\n",
    "df_dicom.SeriesDescription.unique()"
   ]
  },
  {
   "cell_type": "code",
   "execution_count": null,
   "id": "e865bf45",
   "metadata": {},
   "outputs": [],
   "source": [
    "# check image path in dataset\n",
    "# cropped images\n",
    "cropped_images = df_dicom[df_dicom.SeriesDescription=='cropped images'].image_path\n",
    "print(cropped_images)\n",
    "\n",
    "#full mammogram images\n",
    "full_mammo = df_dicom[df_dicom.SeriesDescription=='full mammogram images'].image_path\n",
    "\n",
    "\n",
    "# ROI images\n",
    "roi_img = df_dicom[df_dicom.SeriesDescription=='ROI mask images'].image_path"
   ]
  },
  {
   "cell_type": "code",
   "execution_count": null,
   "id": "e66c5848",
   "metadata": {},
   "outputs": [],
   "source": [
    "# set correct image path for image types\n",
    "# set correct image path for image types\n",
    "imdir = 'kaggle/input/cbis-ddsm-breast-cancer-image-dataset/jpeg'\n",
    "\n",
    "# change directory path of images\n",
    "cropped_images = cropped_images.replace('CBIS-DDSM/jpeg', imdir, regex=True)\n",
    "full_mammo = full_mammo.replace('CBIS-DDSM/jpeg', imdir, regex=True)\n",
    "roi_img = roi_img.replace('CBIS-DDSM/jpeg', imdir, regex=True)\n",
    "\n",
    "# view new paths\n",
    "print('Cropped Images paths:\\n')\n",
    "print(cropped_images.iloc[0])\n",
    "print('Full mammo Images paths:\\n')\n",
    "print(full_mammo.iloc[0])\n",
    "print('ROI Mask Images paths:\\n')\n",
    "print(roi_img.iloc[0])\n"
   ]
  },
  {
   "cell_type": "code",
   "execution_count": null,
   "id": "c02b86c4",
   "metadata": {},
   "outputs": [],
   "source": [
    "# organize image paths\n",
    "full_mammo_dict = dict()\n",
    "cropped_images_dict = dict()\n",
    "roi_img_dict = dict()\n",
    "\n",
    "for dicom in full_mammo:\n",
    "    key = dicom.split(\"/\")[4]\n",
    "    full_mammo_dict[key] = dicom\n",
    "for dicom in cropped_images:\n",
    "    key = dicom.split(\"/\")[4]\n",
    "    cropped_images_dict[key] = dicom\n",
    "for dicom in roi_img:\n",
    "    key = dicom.split(\"/\")[4]\n",
    "    roi_img[key] = dicom\n",
    "\n",
    "# view keys\n",
    "next(iter((full_mammo_dict.items())))"
   ]
  },
  {
   "cell_type": "code",
   "execution_count": null,
   "id": "cda636f1",
   "metadata": {},
   "outputs": [],
   "source": [
    "# load the mass dataset\n",
    "mass_train = pd.read_csv('/Users/amritanand/Documents/Programming/Breast Cancer/Input/cbism-ddsm-breast-cancer/csv/mass_case_description_train_set.csv')\n",
    "mass_test  =  pd.read_csv('/Users/amritanand/Documents/Programming/Breast Cancer/Input/cbism-ddsm-breast-cancer/csv/mass_case_description_test_set.csv')\n",
    "\n",
    "mass_train.head()\n"
   ]
  },
  {
   "cell_type": "code",
   "execution_count": null,
   "id": "2da678fc",
   "metadata": {},
   "outputs": [],
   "source": [
    "# fix image paths\n",
    "def fix_image_path(data):\n",
    "    \"\"\"correct dicom paths to correct image paths\"\"\"\n",
    "    for index, img in enumerate(data.values):\n",
    "        img_name = img[11].split(\"/\")[2]\n",
    "        data.iloc[index,11] = full_mammo_dict[img_name]\n",
    "        img_name = img[12].split(\"/\")[2]\n",
    "        data.iloc[index,12] = cropped_images_dict[img_name]\n",
    "        \n",
    "# apply to datasets\n",
    "fix_image_path(mass_train)\n",
    "fix_image_path(mass_test)"
   ]
  },
  {
   "cell_type": "code",
   "execution_count": null,
   "id": "446d80d9",
   "metadata": {},
   "outputs": [],
   "source": [
    "# check unique values in pathology column\n",
    "mass_train.pathology.unique()\n",
    "mass_train.info()\n",
    "\n",
    "# rename columns\n",
    "mass_train = mass_train.rename(columns={'left or right breast': 'left_or_right_breast',\n",
    "                                           'image view': 'image_view',\n",
    "                                           'abnormality id': 'abnormality_id',\n",
    "                                           'abnormality type': 'abnormality_type',\n",
    "                                           'mass shape': 'mass_shape',\n",
    "                                           'mass margins': 'mass_margins',\n",
    "                                           'image file path': 'image_file_path',\n",
    "                                           'cropped image file path': 'cropped_image_file_path',\n",
    "                                           'ROI mask file path': 'ROI_mask_file_path'})\n",
    "\n",
    "mass_train.head(5)"
   ]
  },
  {
   "cell_type": "code",
   "execution_count": null,
   "id": "04738d33",
   "metadata": {},
   "outputs": [],
   "source": [
    "# check for null values\n",
    "mass_train.isnull().sum()\n",
    "\n",
    "# fill in missing values using the backwards fill method\n",
    "mass_train['mass_shape'] = mass_train['mass_shape'].fillna(method='bfill')\n",
    "mass_train['mass_margins'] = mass_train['mass_margins'].fillna(method='bfill')\n",
    "\n",
    "#check null values\n",
    "mass_train.isnull().sum()\n",
    "\n",
    "# quantitative summary of features\n",
    "mass_train.describe()"
   ]
  },
  {
   "cell_type": "code",
   "execution_count": null,
   "id": "e8c6e4e7",
   "metadata": {},
   "outputs": [],
   "source": [
    "# view mass_test\n",
    "mass_test.head()"
   ]
  },
  {
   "cell_type": "code",
   "execution_count": null,
   "id": "9ba7334b",
   "metadata": {},
   "outputs": [],
   "source": [
    "# check datasets shape\n",
    "print(f'Shape of mass_train: {mass_train.shape}')\n",
    "print(f'Shape of mass_test: {mass_test.shape}')\n",
    "\n",
    "\n",
    "mass_test.isnull().sum()\n",
    "\n",
    "print(mass_test.columns)\n",
    "print('\\n')\n"
   ]
  },
  {
   "cell_type": "code",
   "execution_count": null,
   "id": "8971dbdf",
   "metadata": {},
   "outputs": [],
   "source": [
    "# rename columns\n",
    "mass_test = mass_test.rename(columns={'left or right breast': 'left_or_right_breast',\n",
    "                                           'image view': 'image_view',\n",
    "                                           'abnormality id': 'abnormality_id',\n",
    "                                           'abnormality type': 'abnormality_type',\n",
    "                                           'mass shape': 'mass_shape',\n",
    "                                           'mass margins': 'mass_margins',\n",
    "                                           'image file path': 'image_file_path',\n",
    "                                           'cropped image file path': 'cropped_image_file_path',\n",
    "                                           'ROI mask file path': 'ROI_mask_file_path'})\n",
    "\n",
    "# view renamed columns\n",
    "mass_test.columns\n"
   ]
  },
  {
   "cell_type": "code",
   "execution_count": null,
   "id": "a54f2ba2",
   "metadata": {},
   "outputs": [],
   "source": [
    "\n",
    "# fill in missing values using the backwards fill method\n",
    "mass_test['mass_margins'] = mass_test['mass_margins'].fillna(method='bfill')\n",
    "\n",
    "#check null values\n",
    "mass_test.isnull().sum()"
   ]
  },
  {
   "cell_type": "code",
   "execution_count": null,
   "id": "b9bcfe5e",
   "metadata": {},
   "outputs": [],
   "source": [
    "# pathology distributions\n",
    "value = mass_train['pathology'].value_counts()\n",
    "\n",
    "plt.figure(figsize=(8,6))\n",
    "plt.pie(value, labels=value.index, autopct='%1.1f%%')\n",
    "plt.title('Breast Cancer Mass Types', fontsize=14)\n",
    "plt.savefig('kaggle/pathology_distributions_red.png')\n",
    "plt.show()\n",
    "\n"
   ]
  },
  {
   "cell_type": "code",
   "execution_count": null,
   "id": "9ae797f1",
   "metadata": {},
   "outputs": [],
   "source": [
    "# Display some images\n",
    "import matplotlib.image as mpimg\n"
   ]
  },
  {
   "cell_type": "code",
   "execution_count": null,
   "id": "c583e254",
   "metadata": {},
   "outputs": [],
   "source": [
    "# create function to display images\n",
    "def display_images(column, number):\n",
    "    \"\"\"displays images in dataset\"\"\"\n",
    "    # create figure and axes\n",
    "    number_to_visualize = number\n",
    "    rows = 1\n",
    "    cols = number_to_visualize\n",
    "    fig, axes = plt.subplots(rows, cols, figsize=(15, 5))\n",
    "    \n",
    "    # Loop through rows and display images\n",
    "    for index, row in mass_train.head(number_to_visualize).iterrows():\n",
    "        image_path = row[column]\n",
    "        image = mpimg.imread(image_path)\n",
    "        ax = axes[index]\n",
    "        ax.imshow(image, cmap='gray')\n",
    "        ax.set_title(f\"{row['pathology']}\")\n",
    "        ax.axis('off')\n",
    "    plt.tight_layout()\n",
    "    plt.show()\n",
    "\n",
    "print('Full Mammograms:\\n')\n",
    "display_images('image_file_path', 5)\n",
    "print('Cropped Mammograms:\\n')\n",
    "display_images('cropped_image_file_path', 5)"
   ]
  }
 ],
 "metadata": {
  "kernelspec": {
   "display_name": "Python 3 (ipykernel)",
   "language": "python",
   "name": "python3"
  },
  "language_info": {
   "codemirror_mode": {
    "name": "ipython",
    "version": 3
   },
   "file_extension": ".py",
   "mimetype": "text/x-python",
   "name": "python",
   "nbconvert_exporter": "python",
   "pygments_lexer": "ipython3",
   "version": "3.11.5"
  }
 },
 "nbformat": 4,
 "nbformat_minor": 5
}
